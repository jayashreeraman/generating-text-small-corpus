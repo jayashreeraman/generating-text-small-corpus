{
 "cells": [
  {
   "cell_type": "code",
   "execution_count": 2,
   "metadata": {},
   "outputs": [],
   "source": [
    "from fastai import *\n",
    "from fastai.text import * "
   ]
  },
  {
   "cell_type": "code",
   "execution_count": 3,
   "metadata": {},
   "outputs": [],
   "source": [
    "import pandas as pd"
   ]
  },
  {
   "cell_type": "code",
   "execution_count": 4,
   "metadata": {},
   "outputs": [],
   "source": [
    "import numpy as np\n",
    "import json"
   ]
  },
  {
   "cell_type": "code",
   "execution_count": 5,
   "metadata": {},
   "outputs": [],
   "source": [
    "# df = pd.read_csv('data/quotes.csv', sep=r'\\<\\|\\>', header=None, names=['text', 'author'])\n",
    "# data_df = pd.read_json('myData/bill-bryson.json', lines=True)\n",
    "\n",
    "\n",
    "with open('myData/bill-bryson.json', 'r', encoding='utf-8') as f:\n",
    "    data = json.load(f)\n",
    "df = pd.DataFrame(data)"
   ]
  },
  {
   "cell_type": "code",
   "execution_count": 5,
   "metadata": {},
   "outputs": [
    {
     "data": {
      "text/html": [
       "<div>\n",
       "<style scoped>\n",
       "    .dataframe tbody tr th:only-of-type {\n",
       "        vertical-align: middle;\n",
       "    }\n",
       "\n",
       "    .dataframe tbody tr th {\n",
       "        vertical-align: top;\n",
       "    }\n",
       "\n",
       "    .dataframe thead th {\n",
       "        text-align: right;\n",
       "    }\n",
       "</style>\n",
       "<table border=\"1\" class=\"dataframe\">\n",
       "  <thead>\n",
       "    <tr style=\"text-align: right;\">\n",
       "      <th></th>\n",
       "      <th>quote</th>\n",
       "      <th>author</th>\n",
       "    </tr>\n",
       "  </thead>\n",
       "  <tbody>\n",
       "    <tr>\n",
       "      <th>0</th>\n",
       "      <td>Not one of your pertinent ancestors was squash...</td>\n",
       "      <td>Bill Bryson</td>\n",
       "    </tr>\n",
       "    <tr>\n",
       "      <th>1</th>\n",
       "      <td>But that's the glory of foreign travel, as far...</td>\n",
       "      <td>Bill Bryson</td>\n",
       "    </tr>\n",
       "    <tr>\n",
       "      <th>2</th>\n",
       "      <td>As my father always used to tell me, 'You see,...</td>\n",
       "      <td>Bill Bryson</td>\n",
       "    </tr>\n",
       "    <tr>\n",
       "      <th>3</th>\n",
       "      <td>Tune your television to any channel it doesn't...</td>\n",
       "      <td>Bill Bryson</td>\n",
       "    </tr>\n",
       "    <tr>\n",
       "      <th>4</th>\n",
       "      <td>There are three stages in scientific discovery...</td>\n",
       "      <td>Bill Bryson</td>\n",
       "    </tr>\n",
       "  </tbody>\n",
       "</table>\n",
       "</div>"
      ],
      "text/plain": [
       "                                               quote       author\n",
       "0  Not one of your pertinent ancestors was squash...  Bill Bryson\n",
       "1  But that's the glory of foreign travel, as far...  Bill Bryson\n",
       "2  As my father always used to tell me, 'You see,...  Bill Bryson\n",
       "3  Tune your television to any channel it doesn't...  Bill Bryson\n",
       "4  There are three stages in scientific discovery...  Bill Bryson"
      ]
     },
     "execution_count": 5,
     "metadata": {},
     "output_type": "execute_result"
    }
   ],
   "source": [
    "df = df[['quote', 'author']]\n",
    "df.head()"
   ]
  },
  {
   "cell_type": "code",
   "execution_count": 6,
   "metadata": {},
   "outputs": [],
   "source": [
    "df['quote'] = df['quote'].str.lower()"
   ]
  },
  {
   "cell_type": "code",
   "execution_count": 7,
   "metadata": {},
   "outputs": [],
   "source": [
    "valid_pct = 0.05 #validation percent\n",
    "df = df.iloc[np.random.permutation(len(df))]\n",
    "cut = int(valid_pct * len(df)) + 1\n",
    "train_df, valid_df = df[cut:], df[:cut]"
   ]
  },
  {
   "cell_type": "code",
   "execution_count": 8,
   "metadata": {},
   "outputs": [
    {
     "data": {
      "text/html": [
       "<div>\n",
       "<style scoped>\n",
       "    .dataframe tbody tr th:only-of-type {\n",
       "        vertical-align: middle;\n",
       "    }\n",
       "\n",
       "    .dataframe tbody tr th {\n",
       "        vertical-align: top;\n",
       "    }\n",
       "\n",
       "    .dataframe thead th {\n",
       "        text-align: right;\n",
       "    }\n",
       "</style>\n",
       "<table border=\"1\" class=\"dataframe\">\n",
       "  <thead>\n",
       "    <tr style=\"text-align: right;\">\n",
       "      <th></th>\n",
       "      <th>author</th>\n",
       "      <th>quote</th>\n",
       "    </tr>\n",
       "  </thead>\n",
       "  <tbody>\n",
       "    <tr>\n",
       "      <th>506</th>\n",
       "      <td>Bill Bryson</td>\n",
       "      <td>a full moon rose in the pale evening sky and g...</td>\n",
       "    </tr>\n",
       "    <tr>\n",
       "      <th>682</th>\n",
       "      <td>Bill Bryson</td>\n",
       "      <td>jennings quotes the response of a contestant i...</td>\n",
       "    </tr>\n",
       "    <tr>\n",
       "      <th>280</th>\n",
       "      <td>Bill Bryson</td>\n",
       "      <td>as the physicist paul davies puts it, 'if ever...</td>\n",
       "    </tr>\n",
       "    <tr>\n",
       "      <th>679</th>\n",
       "      <td>Bill Bryson</td>\n",
       "      <td>by the late eighteenth century britain’s statu...</td>\n",
       "    </tr>\n",
       "    <tr>\n",
       "      <th>487</th>\n",
       "      <td>Bill Bryson</td>\n",
       "      <td>in its first three minutes, according to infla...</td>\n",
       "    </tr>\n",
       "  </tbody>\n",
       "</table>\n",
       "</div>"
      ],
      "text/plain": [
       "          author                                              quote\n",
       "506  Bill Bryson  a full moon rose in the pale evening sky and g...\n",
       "682  Bill Bryson  jennings quotes the response of a contestant i...\n",
       "280  Bill Bryson  as the physicist paul davies puts it, 'if ever...\n",
       "679  Bill Bryson  by the late eighteenth century britain’s statu...\n",
       "487  Bill Bryson  in its first three minutes, according to infla..."
      ]
     },
     "execution_count": 8,
     "metadata": {},
     "output_type": "execute_result"
    }
   ],
   "source": [
    "# train_df\n",
    "valid_df.head()"
   ]
  },
  {
   "cell_type": "code",
   "execution_count": 8,
   "metadata": {},
   "outputs": [
    {
     "data": {
      "text/plain": [
       "(720, 38)"
      ]
     },
     "execution_count": 8,
     "metadata": {},
     "output_type": "execute_result"
    }
   ],
   "source": [
    "len(train_df), len(valid_df)"
   ]
  },
  {
   "cell_type": "code",
   "execution_count": 9,
   "metadata": {},
   "outputs": [],
   "source": [
    "nan_rows = df[df['quote'].isnull()]"
   ]
  },
  {
   "cell_type": "code",
   "execution_count": 10,
   "metadata": {},
   "outputs": [
    {
     "data": {
      "text/html": [
       "<div>\n",
       "<style scoped>\n",
       "    .dataframe tbody tr th:only-of-type {\n",
       "        vertical-align: middle;\n",
       "    }\n",
       "\n",
       "    .dataframe tbody tr th {\n",
       "        vertical-align: top;\n",
       "    }\n",
       "\n",
       "    .dataframe thead th {\n",
       "        text-align: right;\n",
       "    }\n",
       "</style>\n",
       "<table border=\"1\" class=\"dataframe\">\n",
       "  <thead>\n",
       "    <tr style=\"text-align: right;\">\n",
       "      <th></th>\n",
       "      <th>quote</th>\n",
       "      <th>author</th>\n",
       "    </tr>\n",
       "  </thead>\n",
       "  <tbody>\n",
       "  </tbody>\n",
       "</table>\n",
       "</div>"
      ],
      "text/plain": [
       "Empty DataFrame\n",
       "Columns: [quote, author]\n",
       "Index: []"
      ]
     },
     "execution_count": 10,
     "metadata": {},
     "output_type": "execute_result"
    }
   ],
   "source": [
    "nan_rows"
   ]
  },
  {
   "cell_type": "code",
   "execution_count": 11,
   "metadata": {},
   "outputs": [],
   "source": [
    "data_lm = TextLMDataBunch.from_df('data', train_df, valid_df, text_cols='quote',\n",
    "                           label_cols='author')"
   ]
  },
  {
   "cell_type": "code",
   "execution_count": 9,
   "metadata": {},
   "outputs": [],
   "source": [
    "# data_clas = TextClasDataBunch.from_df('data', train_df, valid_df, text_cols='text', label_cols='author', vocab=data_lm.train_ds.vocab, bs=32)"
   ]
  },
  {
   "cell_type": "code",
   "execution_count": 12,
   "metadata": {},
   "outputs": [
    {
     "data": {
      "text/html": [
       "Total time: 01:16 <p><table style='width:300px; margin-bottom:10px'>\n",
       "  <tr>\n",
       "    <th>epoch</th>\n",
       "    <th>train_loss</th>\n",
       "    <th>valid_loss</th>\n",
       "    <th>accuracy</th>\n",
       "  </tr>\n",
       "  <tr>\n",
       "    <th>1</th>\n",
       "    <th>4.456220</th>\n",
       "    <th>4.106814</th>\n",
       "    <th>0.250223</th>\n",
       "  </tr>\n",
       "</table>\n"
      ],
      "text/plain": [
       "<IPython.core.display.HTML object>"
      ]
     },
     "metadata": {},
     "output_type": "display_data"
    }
   ],
   "source": [
    "learn = language_model_learner(data_lm, pretrained_model=URLs.WT103, drop_mult=0.5)\n",
    "learn.fit_one_cycle(1, 1e-2)"
   ]
  },
  {
   "cell_type": "code",
   "execution_count": 13,
   "metadata": {},
   "outputs": [
    {
     "data": {
      "text/html": [
       "Total time: 02:35 <p><table style='width:300px; margin-bottom:10px'>\n",
       "  <tr>\n",
       "    <th>epoch</th>\n",
       "    <th>train_loss</th>\n",
       "    <th>valid_loss</th>\n",
       "    <th>accuracy</th>\n",
       "  </tr>\n",
       "  <tr>\n",
       "    <th>1</th>\n",
       "    <th>4.215836</th>\n",
       "    <th>3.969538</th>\n",
       "    <th>0.258482</th>\n",
       "  </tr>\n",
       "</table>\n"
      ],
      "text/plain": [
       "<IPython.core.display.HTML object>"
      ]
     },
     "metadata": {},
     "output_type": "display_data"
    }
   ],
   "source": [
    "learn.unfreeze()\n",
    "learn.fit_one_cycle(1, 1e-3)"
   ]
  },
  {
   "cell_type": "code",
   "execution_count": 14,
   "metadata": {},
   "outputs": [],
   "source": [
    "wd=1e-7\n",
    "lr=1e-3\n",
    "lrs = lr"
   ]
  },
  {
   "cell_type": "code",
   "execution_count": 15,
   "metadata": {},
   "outputs": [
    {
     "data": {
      "text/html": [
       "Total time: 26:35 <p><table style='width:300px; margin-bottom:10px'>\n",
       "  <tr>\n",
       "    <th>epoch</th>\n",
       "    <th>train_loss</th>\n",
       "    <th>valid_loss</th>\n",
       "    <th>accuracy</th>\n",
       "  </tr>\n",
       "  <tr>\n",
       "    <th>1</th>\n",
       "    <th>4.032118</th>\n",
       "    <th>3.842828</th>\n",
       "    <th>0.273661</th>\n",
       "  </tr>\n",
       "  <tr>\n",
       "    <th>2</th>\n",
       "    <th>3.930074</th>\n",
       "    <th>3.794107</th>\n",
       "    <th>0.277009</th>\n",
       "  </tr>\n",
       "  <tr>\n",
       "    <th>3</th>\n",
       "    <th>3.846089</th>\n",
       "    <th>3.764591</th>\n",
       "    <th>0.280804</th>\n",
       "  </tr>\n",
       "  <tr>\n",
       "    <th>4</th>\n",
       "    <th>3.755732</th>\n",
       "    <th>3.723675</th>\n",
       "    <th>0.281250</th>\n",
       "  </tr>\n",
       "  <tr>\n",
       "    <th>5</th>\n",
       "    <th>3.670425</th>\n",
       "    <th>3.699772</th>\n",
       "    <th>0.287500</th>\n",
       "  </tr>\n",
       "  <tr>\n",
       "    <th>6</th>\n",
       "    <th>3.579985</th>\n",
       "    <th>3.677850</th>\n",
       "    <th>0.288839</th>\n",
       "  </tr>\n",
       "  <tr>\n",
       "    <th>7</th>\n",
       "    <th>3.492538</th>\n",
       "    <th>3.637026</th>\n",
       "    <th>0.299330</th>\n",
       "  </tr>\n",
       "  <tr>\n",
       "    <th>8</th>\n",
       "    <th>3.396629</th>\n",
       "    <th>3.614479</th>\n",
       "    <th>0.303125</th>\n",
       "  </tr>\n",
       "  <tr>\n",
       "    <th>9</th>\n",
       "    <th>3.302478</th>\n",
       "    <th>3.603954</th>\n",
       "    <th>0.301116</th>\n",
       "  </tr>\n",
       "  <tr>\n",
       "    <th>10</th>\n",
       "    <th>3.200469</th>\n",
       "    <th>3.570338</th>\n",
       "    <th>0.312277</th>\n",
       "  </tr>\n",
       "</table>\n"
      ],
      "text/plain": [
       "<IPython.core.display.HTML object>"
      ]
     },
     "metadata": {},
     "output_type": "display_data"
    }
   ],
   "source": [
    "learn.fit(10,lrs, wd)"
   ]
  },
  {
   "cell_type": "code",
   "execution_count": 16,
   "metadata": {},
   "outputs": [
    {
     "data": {
      "text/plain": [
       "'xxbos the general purpose of the precise means of making it was to make a practical sense of how things go . when you get an order of the book , you have to be so on a long flight from london to paris and come back to paris and tell'"
      ]
     },
     "execution_count": 16,
     "metadata": {},
     "output_type": "execute_result"
    }
   ],
   "source": [
    "learn.predict(\"xxbos\", n_words=50, temperature=0.75)"
   ]
  },
  {
   "cell_type": "code",
   "execution_count": 24,
   "metadata": {},
   "outputs": [],
   "source": [
    "number_of_ideas = 50\n",
    "ideas_counter = 0\n",
    "all_ideas = []\n",
    "\n",
    "for i in range(1000):\n",
    "    idea = learn.predict(\"xxbos\", n_words=20, temperature=0.8)\n",
    "    ideas = idea.split(\"xxbos\")\n",
    "    ideas = ideas[1:-1]\n",
    "    \n",
    "    for idea in ideas:\n",
    "        idea = idea.replace(\"xxbos\",\"\").strip()\n",
    "        if(idea):\n",
    "            all_ideas.append(idea)\n",
    "            ideas_counter = ideas_counter+1\n",
    "#     print(ideas_counter)\n",
    "            \n",
    "    if ideas_counter > number_of_ideas:\n",
    "        break"
   ]
  },
  {
   "cell_type": "code",
   "execution_count": 25,
   "metadata": {},
   "outputs": [
    {
     "data": {
      "text/plain": [
       "51"
      ]
     },
     "execution_count": 25,
     "metadata": {},
     "output_type": "execute_result"
    }
   ],
   "source": [
    "len(all_ideas)"
   ]
  },
  {
   "cell_type": "code",
   "execution_count": 26,
   "metadata": {},
   "outputs": [
    {
     "data": {
      "text/plain": [
       "['in a perfect globe , the sun was not in a kind of big box .',\n",
       " 'the while you can choke off the world , you can be afraid of it .',\n",
       " 'that is the one thing we do encountered . we have a lot of fun with it .',\n",
       " 'these species of words are not so interesting , but they take some advantage of them .',\n",
       " 'for a minute it used to be a famous visitor .',\n",
       " 'this is the one thing we do n’t do quite well . the',\n",
       " 'both dirty and clean saw little change in the clothes and products of the era .',\n",
       " 'if you are not a living thing , it may be sunny .',\n",
       " 'to be confused , it was a great deal more care than we have been in america .',\n",
       " 'this is the least interesting thing about the little planet . the',\n",
       " 'it was my last place in the world to be devoted to the observation of nature .',\n",
       " 'it is one of those things that make you feel that way . it does even exist .',\n",
       " 'xxup underwear is a proving ground .',\n",
       " 'it is often said that when humans die they are not yet actually in the same place .',\n",
       " 'they are not always the same they are .',\n",
       " 'he said in it : “ it would be a matter of time to think about it .',\n",
       " 'just one thing is a bar : the night .',\n",
       " 'we are not always quite sure how many years we might be there .',\n",
       " 'the inhabitants of the northern united states are sometimes called the early forms of the word .',\n",
       " 'the buildings born in it almost universally have a female name .',\n",
       " 'at one point the only thing about what the british museum called was this rock again .',\n",
       " 'it is easy to enjoy the luck of life .',\n",
       " 'your life is always a kind of small and varied business .',\n",
       " 'the building is mostly of historical significance , since it is not always a place of ease .',\n",
       " 'to do so , you have the ability to control your own lives .',\n",
       " 'is the case for a pillow , a cow beaver .',\n",
       " 'never really fly to the new world .',\n",
       " 'these are the thirty - three very rare names for their conception .',\n",
       " 'i live in the twitched of our ancestors ever .',\n",
       " '. there is a place where you can be now ; you are the best good at it .',\n",
       " 'in the twentieth century , not all the people , however , could actually be famous people .',\n",
       " 'perhaps the most famous fact in the world is that you may be here now .',\n",
       " 'the man who was on top of an american flying plane is a fly named extinguishing for you .',\n",
       " 'what a beautiful and wonderful fashion .',\n",
       " 'the great exhibition was the most extraordinary of all the great exhibition .',\n",
       " 'it is where we love the state of the universe .',\n",
       " 'these are the types of things we call the world . one can even be a speaker .',\n",
       " 'if you could produce a cloud , you would have a wonder still in the land .',\n",
       " 'to begin with , you are not particularly good at anyone in the woods .',\n",
       " 'at the time it was not known , it was simply a very curious feature of our existence .',\n",
       " 'to have an interesting , long - term idea that a life is extraordinary .',\n",
       " 'with this new element of the universe , we are still on average around us .',\n",
       " 'it is not a fact that we can do so soon after .',\n",
       " 'the notion that a earth is so different from earth is the only thing we know about it .',\n",
       " 'eventually , the little red changes that we have now achieved in our lives .',\n",
       " 'the visitor is often more than one of the more attractive names in the world .',\n",
       " 'is not the sort of thing we often used to do .',\n",
       " 'has since left the earth in a state of nearly constant abundance .',\n",
       " 'it is the only place where we can live .',\n",
       " 'to be in that country , we know why it is the only thing that does ferris out ?',\n",
       " 'the question of who wants to be with you is a question of irony .']"
      ]
     },
     "execution_count": 26,
     "metadata": {},
     "output_type": "execute_result"
    }
   ],
   "source": [
    "all_ideas"
   ]
  },
  {
   "cell_type": "code",
   "execution_count": 27,
   "metadata": {},
   "outputs": [],
   "source": [
    "learn.save_encoder('ft_enc')"
   ]
  },
  {
   "cell_type": "code",
   "execution_count": 21,
   "metadata": {},
   "outputs": [],
   "source": [
    "train_df.to_pickle('data/train_df.pkl')"
   ]
  },
  {
   "cell_type": "code",
   "execution_count": 22,
   "metadata": {},
   "outputs": [],
   "source": [
    "valid_df.to_pickle('data/valid_df.pkl')"
   ]
  },
  {
   "cell_type": "markdown",
   "metadata": {},
   "source": [
    "## What happens when Bryson, Wodehouse and Pratchett travel together?"
   ]
  },
  {
   "cell_type": "code",
   "execution_count": 9,
   "metadata": {},
   "outputs": [],
   "source": [
    "with open('myData/bill-bryson.json', 'r', encoding='utf-8') as f:\n",
    "    data = json.load(f)\n",
    "df_bryson = pd.DataFrame(data)"
   ]
  },
  {
   "cell_type": "code",
   "execution_count": 10,
   "metadata": {},
   "outputs": [],
   "source": [
    "with open('myData/terry-pratchett.json', 'r', encoding='utf-8') as f:\n",
    "    data = json.load(f)\n",
    "df_pratchett = pd.DataFrame(data)"
   ]
  },
  {
   "cell_type": "code",
   "execution_count": 11,
   "metadata": {},
   "outputs": [],
   "source": [
    "with open('myData/p-g wodehouse.json', 'r', encoding='utf-8') as f:\n",
    "    data = json.load(f)\n",
    "df_wodehouse = pd.DataFrame(data)"
   ]
  },
  {
   "cell_type": "code",
   "execution_count": 24,
   "metadata": {},
   "outputs": [],
   "source": [
    "df = df_bryson.merge(df_wodehouse, how='outer')#.merge(df_pratchett, how='outer')"
   ]
  },
  {
   "cell_type": "code",
   "execution_count": 25,
   "metadata": {},
   "outputs": [],
   "source": [
    "df['author'].unique()\n",
    "df = df[['quote', 'author']]\n",
    "df['quote'] = df['quote'].str.lower()"
   ]
  },
  {
   "cell_type": "code",
   "execution_count": 26,
   "metadata": {},
   "outputs": [],
   "source": [
    "valid_pct = 0.05 #validation percent\n",
    "df = df.iloc[np.random.permutation(len(df))]\n",
    "cut = int(valid_pct * len(df)) + 1\n",
    "train_df, valid_df = df[cut:], df[:cut]"
   ]
  },
  {
   "cell_type": "code",
   "execution_count": 27,
   "metadata": {},
   "outputs": [
    {
     "data": {
      "text/plain": [
       "(765, 41)"
      ]
     },
     "execution_count": 27,
     "metadata": {},
     "output_type": "execute_result"
    }
   ],
   "source": [
    "len(train_df), len(valid_df)"
   ]
  },
  {
   "cell_type": "code",
   "execution_count": 28,
   "metadata": {},
   "outputs": [
    {
     "data": {
      "text/html": [
       "<div>\n",
       "<style scoped>\n",
       "    .dataframe tbody tr th:only-of-type {\n",
       "        vertical-align: middle;\n",
       "    }\n",
       "\n",
       "    .dataframe tbody tr th {\n",
       "        vertical-align: top;\n",
       "    }\n",
       "\n",
       "    .dataframe thead th {\n",
       "        text-align: right;\n",
       "    }\n",
       "</style>\n",
       "<table border=\"1\" class=\"dataframe\">\n",
       "  <thead>\n",
       "    <tr style=\"text-align: right;\">\n",
       "      <th></th>\n",
       "      <th>quote</th>\n",
       "      <th>author</th>\n",
       "    </tr>\n",
       "  </thead>\n",
       "  <tbody>\n",
       "  </tbody>\n",
       "</table>\n",
       "</div>"
      ],
      "text/plain": [
       "Empty DataFrame\n",
       "Columns: [quote, author]\n",
       "Index: []"
      ]
     },
     "execution_count": 28,
     "metadata": {},
     "output_type": "execute_result"
    }
   ],
   "source": [
    "nan_rows = df[df['quote'].isnull()]\n",
    "nan_rows"
   ]
  },
  {
   "cell_type": "code",
   "execution_count": 29,
   "metadata": {},
   "outputs": [
    {
     "data": {
      "text/html": [
       "Total time: 01:27 <p><table style='width:300px; margin-bottom:10px'>\n",
       "  <tr>\n",
       "    <th>epoch</th>\n",
       "    <th>train_loss</th>\n",
       "    <th>valid_loss</th>\n",
       "    <th>accuracy</th>\n",
       "  </tr>\n",
       "  <tr>\n",
       "    <th>1</th>\n",
       "    <th>4.458746</th>\n",
       "    <th>4.069497</th>\n",
       "    <th>0.244420</th>\n",
       "  </tr>\n",
       "</table>\n"
      ],
      "text/plain": [
       "<IPython.core.display.HTML object>"
      ]
     },
     "metadata": {},
     "output_type": "display_data"
    }
   ],
   "source": [
    "data_lm = TextLMDataBunch.from_df('data', train_df, valid_df, text_cols='quote',\n",
    "                           label_cols='author')\n",
    "\n",
    "learn_bwt = language_model_learner(data_lm, pretrained_model=URLs.WT103, drop_mult=0.5)\n",
    "learn_bwt.fit_one_cycle(1, 1e-2)"
   ]
  },
  {
   "cell_type": "code",
   "execution_count": 32,
   "metadata": {},
   "outputs": [
    {
     "data": {
      "text/html": [
       "Total time: 03:06 <p><table style='width:300px; margin-bottom:10px'>\n",
       "  <tr>\n",
       "    <th>epoch</th>\n",
       "    <th>train_loss</th>\n",
       "    <th>valid_loss</th>\n",
       "    <th>accuracy</th>\n",
       "  </tr>\n",
       "  <tr>\n",
       "    <th>1</th>\n",
       "    <th>4.237536</th>\n",
       "    <th>3.920569</th>\n",
       "    <th>0.246875</th>\n",
       "  </tr>\n",
       "</table>\n"
      ],
      "text/plain": [
       "<IPython.core.display.HTML object>"
      ]
     },
     "metadata": {},
     "output_type": "display_data"
    }
   ],
   "source": [
    "learn_bwt.unfreeze()\n",
    "learn_bwt.fit_one_cycle(1, 1e-3)"
   ]
  },
  {
   "cell_type": "code",
   "execution_count": 33,
   "metadata": {},
   "outputs": [
    {
     "data": {
      "text/html": [
       "Total time: 31:18 <p><table style='width:300px; margin-bottom:10px'>\n",
       "  <tr>\n",
       "    <th>epoch</th>\n",
       "    <th>train_loss</th>\n",
       "    <th>valid_loss</th>\n",
       "    <th>accuracy</th>\n",
       "  </tr>\n",
       "  <tr>\n",
       "    <th>1</th>\n",
       "    <th>4.027319</th>\n",
       "    <th>3.779742</th>\n",
       "    <th>0.269420</th>\n",
       "  </tr>\n",
       "  <tr>\n",
       "    <th>2</th>\n",
       "    <th>3.934621</th>\n",
       "    <th>3.696176</th>\n",
       "    <th>0.275000</th>\n",
       "  </tr>\n",
       "  <tr>\n",
       "    <th>3</th>\n",
       "    <th>3.846350</th>\n",
       "    <th>3.658740</th>\n",
       "    <th>0.287500</th>\n",
       "  </tr>\n",
       "  <tr>\n",
       "    <th>4</th>\n",
       "    <th>3.755318</th>\n",
       "    <th>3.591700</th>\n",
       "    <th>0.287946</th>\n",
       "  </tr>\n",
       "  <tr>\n",
       "    <th>5</th>\n",
       "    <th>3.665892</th>\n",
       "    <th>3.534622</th>\n",
       "    <th>0.302009</th>\n",
       "  </tr>\n",
       "  <tr>\n",
       "    <th>6</th>\n",
       "    <th>3.571671</th>\n",
       "    <th>3.509583</th>\n",
       "    <th>0.300670</th>\n",
       "  </tr>\n",
       "  <tr>\n",
       "    <th>7</th>\n",
       "    <th>3.477819</th>\n",
       "    <th>3.458205</th>\n",
       "    <th>0.312054</th>\n",
       "  </tr>\n",
       "  <tr>\n",
       "    <th>8</th>\n",
       "    <th>3.380935</th>\n",
       "    <th>3.427504</th>\n",
       "    <th>0.320982</th>\n",
       "  </tr>\n",
       "  <tr>\n",
       "    <th>9</th>\n",
       "    <th>3.283464</th>\n",
       "    <th>3.390919</th>\n",
       "    <th>0.323661</th>\n",
       "  </tr>\n",
       "  <tr>\n",
       "    <th>10</th>\n",
       "    <th>3.190393</th>\n",
       "    <th>3.408535</th>\n",
       "    <th>0.329241</th>\n",
       "  </tr>\n",
       "</table>\n"
      ],
      "text/plain": [
       "<IPython.core.display.HTML object>"
      ]
     },
     "metadata": {},
     "output_type": "display_data"
    }
   ],
   "source": [
    "wd=1e-7\n",
    "lr=1e-3\n",
    "lrs = lr\n",
    "learn_bwt.fit(10,lrs, wd)"
   ]
  },
  {
   "cell_type": "code",
   "execution_count": 34,
   "metadata": {},
   "outputs": [
    {
     "data": {
      "text/plain": [
       "\"xxbos the two largest towns in the country are the people of the springs who live in a world that is sufficiently suited to their own lives and those whose lives they feel as if they had created themselves . xxbos the first person who could tell us was ' that\""
      ]
     },
     "execution_count": 34,
     "metadata": {},
     "output_type": "execute_result"
    }
   ],
   "source": [
    "learn_bwt.predict(\"xxbos\", n_words=50, temperature=0.75)"
   ]
  },
  {
   "cell_type": "code",
   "execution_count": 35,
   "metadata": {},
   "outputs": [],
   "source": [
    "number_of_ideas = 50\n",
    "ideas_counter = 0\n",
    "all_ideas = []\n",
    "\n",
    "for i in range(1000):\n",
    "    idea = learn_bwt.predict(\"xxbos\", n_words=20, temperature=0.8)\n",
    "    ideas = idea.split(\"xxbos\")\n",
    "    ideas = ideas[1:-1]\n",
    "    \n",
    "    for idea in ideas:\n",
    "        idea = idea.replace(\"xxbos\",\"\").strip()\n",
    "        if(idea):\n",
    "            all_ideas.append(idea)\n",
    "            ideas_counter = ideas_counter+1\n",
    "#     print(ideas_counter)\n",
    "            \n",
    "    if ideas_counter > number_of_ideas:\n",
    "        break"
   ]
  },
  {
   "cell_type": "code",
   "execution_count": 36,
   "metadata": {},
   "outputs": [
    {
     "data": {
      "text/plain": [
       "['this table is essentially an open place for most people to occupy .',\n",
       " 'the english language is simply taking an atom name to it .',\n",
       " 'a powerful human is an atom of moose , and oh , he was .',\n",
       " 'we never have since followed up our lives and were ordered not to stand there .',\n",
       " \"that 's why i love to live where i do n't .\",\n",
       " 'the computer used to be the first to question what it was that americans still lived in .',\n",
       " 'he used to be her own father .',\n",
       " 'i would have wanted to see what was happening . but it was a bad idea .',\n",
       " 'the physical laws of sheep have never been tried before . they are in use today .',\n",
       " 'the finger of the head of the beaver was a three - year - old .',\n",
       " 'it is a good idea and it is the only time that people go with it .',\n",
       " 'the cold war had no doubt that britain would be losing its way into the mediterranean .',\n",
       " 'it is too chemicals to be more useful than we have .',\n",
       " 'the french were almost certainly with british , or probably the most important part of the whole country .',\n",
       " 'the first thing you do is think you have an advanced wonder about it .',\n",
       " 'way of thinking about the existence of a universe is to be thoroughly complicated .',\n",
       " 'the most useful part of the magic or magic system is magic .',\n",
       " 'in the personal papers , the general effect is the question of where the papers were next .',\n",
       " 'he was totally on the trail and not at the height of his civilization .',\n",
       " 'and i was not certain that some letters were ever written about the father of god .',\n",
       " 'in fact , the existence of a universe named for the earth is quite easily the most famous .',\n",
       " 'the english language is simply “ the language of the english language ” , and so on .',\n",
       " 'the english language does not always hold the iconic significance of nature .',\n",
       " 'this was the time that the earth was over .',\n",
       " 'there is no place in history for use in the world to be .',\n",
       " \"that is a little wonder that there 's no point in going to anyone else 's mind .\",\n",
       " 'even this is the only instance in which an american people are mildly helpless .',\n",
       " 'the influence of our future is that our universe has more of its universe than its own power .',\n",
       " 'he led the way . that was the day of the exhibition .',\n",
       " 'as a result , a person looks rather like a dead cow .',\n",
       " 'this is making you feel that life should be a universe .',\n",
       " 'the hotel is a place of great taste and pleasure .',\n",
       " 'i saw he was trying to get clean from getting his eye open to a breath .',\n",
       " 'but they said , ‘ they are really good at getting back .',\n",
       " 'this is not always a way of getting in a better place .',\n",
       " \"it 's also the sort of thing that would be recycled for a time .\",\n",
       " 'the british have no choice but to try to move home . we are not always well off .',\n",
       " 'you are not actually actually confused .',\n",
       " 'the spanish had a good deal of money .',\n",
       " 'apparently , there is something you do n’t want to do about the future of the universe .',\n",
       " 'the english form a “ hit on the',\n",
       " 'it is a strange fact that we live in a world that fairly never once belonged to humans .',\n",
       " 'the first thing we do is simply tell you .',\n",
       " 'the writer would find a way of killing people in an quest to find the right place .',\n",
       " 'they are , this is a miracle , they are part of our family .',\n",
       " 'same life has never given us a history of good eating .',\n",
       " 'the people who do n’t know how to make a mistake .',\n",
       " 'the old man is the most ferocious man i have ever known .',\n",
       " 'a friend , more has been given the degree to commonly used a female .',\n",
       " 'the end of the twentieth century was the beginning of the rise of modern civilization .',\n",
       " 'the mud is a curious feature of our lives .']"
      ]
     },
     "execution_count": 36,
     "metadata": {},
     "output_type": "execute_result"
    }
   ],
   "source": [
    "all_ideas"
   ]
  },
  {
   "cell_type": "code",
   "execution_count": null,
   "metadata": {},
   "outputs": [],
   "source": []
  }
 ],
 "metadata": {
  "kernelspec": {
   "display_name": "Python 3",
   "language": "python",
   "name": "python3"
  },
  "language_info": {
   "codemirror_mode": {
    "name": "ipython",
    "version": 3
   },
   "file_extension": ".py",
   "mimetype": "text/x-python",
   "name": "python",
   "nbconvert_exporter": "python",
   "pygments_lexer": "ipython3",
   "version": "3.7.0"
  }
 },
 "nbformat": 4,
 "nbformat_minor": 2
}
