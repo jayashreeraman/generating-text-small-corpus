{
 "cells": [
  {
   "cell_type": "code",
   "execution_count": 3,
   "metadata": {},
   "outputs": [],
   "source": [
    "from fastai import *\n",
    "from fastai.text import * "
   ]
  },
  {
   "cell_type": "code",
   "execution_count": 4,
   "metadata": {},
   "outputs": [],
   "source": [
    "import pandas as pd"
   ]
  },
  {
   "cell_type": "code",
   "execution_count": 5,
   "metadata": {},
   "outputs": [],
   "source": [
    "import numpy as np"
   ]
  },
  {
   "cell_type": "code",
   "execution_count": 6,
   "metadata": {},
   "outputs": [
    {
     "name": "stderr",
     "output_type": "stream",
     "text": [
      "C:\\Anaconda3\\lib\\site-packages\\ipykernel_launcher.py:1: ParserWarning: Falling back to the 'python' engine because the 'c' engine does not support regex separators (separators > 1 char and different from '\\s+' are interpreted as regex); you can avoid this warning by specifying engine='python'.\n",
      "  \"\"\"Entry point for launching an IPython kernel.\n"
     ]
    }
   ],
   "source": [
    "df = pd.read_csv('data/quotes.csv', sep=r'\\<\\|\\>', header=None, names=['text', 'author'])"
   ]
  },
  {
   "cell_type": "code",
   "execution_count": 7,
   "metadata": {},
   "outputs": [
    {
     "data": {
      "text/html": [
       "<div>\n",
       "<style scoped>\n",
       "    .dataframe tbody tr th:only-of-type {\n",
       "        vertical-align: middle;\n",
       "    }\n",
       "\n",
       "    .dataframe tbody tr th {\n",
       "        vertical-align: top;\n",
       "    }\n",
       "\n",
       "    .dataframe thead th {\n",
       "        text-align: right;\n",
       "    }\n",
       "</style>\n",
       "<table border=\"1\" class=\"dataframe\">\n",
       "  <thead>\n",
       "    <tr style=\"text-align: right;\">\n",
       "      <th></th>\n",
       "      <th>text</th>\n",
       "      <th>author</th>\n",
       "    </tr>\n",
       "  </thead>\n",
       "  <tbody>\n",
       "    <tr>\n",
       "      <th>0</th>\n",
       "      <td>A serious and good philosophical work could be...</td>\n",
       "      <td>Wittgenstein</td>\n",
       "    </tr>\n",
       "    <tr>\n",
       "      <th>1</th>\n",
       "      <td>The limits of my language means the limits of ...</td>\n",
       "      <td>Wittgenstein</td>\n",
       "    </tr>\n",
       "    <tr>\n",
       "      <th>2</th>\n",
       "      <td>I don't know why we are here, but I'm pretty s...</td>\n",
       "      <td>Wittgenstein</td>\n",
       "    </tr>\n",
       "    <tr>\n",
       "      <th>3</th>\n",
       "      <td>Whereof one cannot speak, thereof one must be ...</td>\n",
       "      <td>Wittgenstein</td>\n",
       "    </tr>\n",
       "    <tr>\n",
       "      <th>4</th>\n",
       "      <td>Hell isn't other people. Hell is yourself.</td>\n",
       "      <td>Wittgenstein</td>\n",
       "    </tr>\n",
       "  </tbody>\n",
       "</table>\n",
       "</div>"
      ],
      "text/plain": [
       "                                                text        author\n",
       "0  A serious and good philosophical work could be...  Wittgenstein\n",
       "1  The limits of my language means the limits of ...  Wittgenstein\n",
       "2  I don't know why we are here, but I'm pretty s...  Wittgenstein\n",
       "3  Whereof one cannot speak, thereof one must be ...  Wittgenstein\n",
       "4         Hell isn't other people. Hell is yourself.  Wittgenstein"
      ]
     },
     "execution_count": 7,
     "metadata": {},
     "output_type": "execute_result"
    }
   ],
   "source": [
    "df.head()"
   ]
  },
  {
   "cell_type": "code",
   "execution_count": 8,
   "metadata": {},
   "outputs": [],
   "source": [
    "df['text'] = df['text'].str.lower()"
   ]
  },
  {
   "cell_type": "code",
   "execution_count": 9,
   "metadata": {},
   "outputs": [],
   "source": [
    "valid_pct = 0.05 #validation percent\n",
    "df = df.iloc[np.random.permutation(len(df))]\n",
    "cut = int(valid_pct * len(df)) + 1\n",
    "train_df, valid_df = df[cut:], df[:cut]"
   ]
  },
  {
   "cell_type": "code",
   "execution_count": 10,
   "metadata": {},
   "outputs": [
    {
     "data": {
      "text/plain": [
       "(4873, 257)"
      ]
     },
     "execution_count": 10,
     "metadata": {},
     "output_type": "execute_result"
    }
   ],
   "source": [
    "len(train_df), len(valid_df)"
   ]
  },
  {
   "cell_type": "code",
   "execution_count": 11,
   "metadata": {},
   "outputs": [],
   "source": [
    "nan_rows = df[df['text'].isnull()]"
   ]
  },
  {
   "cell_type": "code",
   "execution_count": 13,
   "metadata": {},
   "outputs": [
    {
     "data": {
      "text/html": [
       "<div>\n",
       "<style scoped>\n",
       "    .dataframe tbody tr th:only-of-type {\n",
       "        vertical-align: middle;\n",
       "    }\n",
       "\n",
       "    .dataframe tbody tr th {\n",
       "        vertical-align: top;\n",
       "    }\n",
       "\n",
       "    .dataframe thead th {\n",
       "        text-align: right;\n",
       "    }\n",
       "</style>\n",
       "<table border=\"1\" class=\"dataframe\">\n",
       "  <thead>\n",
       "    <tr style=\"text-align: right;\">\n",
       "      <th></th>\n",
       "      <th>text</th>\n",
       "      <th>author</th>\n",
       "    </tr>\n",
       "  </thead>\n",
       "  <tbody>\n",
       "  </tbody>\n",
       "</table>\n",
       "</div>"
      ],
      "text/plain": [
       "Empty DataFrame\n",
       "Columns: [text, author]\n",
       "Index: []"
      ]
     },
     "execution_count": 13,
     "metadata": {},
     "output_type": "execute_result"
    }
   ],
   "source": [
    "nan_rows"
   ]
  },
  {
   "cell_type": "code",
   "execution_count": 13,
   "metadata": {},
   "outputs": [],
   "source": [
    "data_lm = TextLMDataBunch.from_df('data', train_df, valid_df, text_cols='text',\n",
    "                           label_cols='author')"
   ]
  },
  {
   "cell_type": "code",
   "execution_count": 9,
   "metadata": {},
   "outputs": [],
   "source": [
    "# data_clas = TextClasDataBunch.from_df('data', train_df, valid_df, text_cols='text', label_cols='author', vocab=data_lm.train_ds.vocab, bs=32)"
   ]
  },
  {
   "cell_type": "code",
   "execution_count": 14,
   "metadata": {},
   "outputs": [
    {
     "data": {
      "text/html": [
       "Total time: 04:37 <p><table style='width:300px; margin-bottom:10px'>\n",
       "  <tr>\n",
       "    <th>epoch</th>\n",
       "    <th>train_loss</th>\n",
       "    <th>valid_loss</th>\n",
       "    <th>accuracy</th>\n",
       "  </tr>\n",
       "  <tr>\n",
       "    <th>1</th>\n",
       "    <th>4.767370</th>\n",
       "    <th>4.369649</th>\n",
       "    <th>0.220312</th>\n",
       "  </tr>\n",
       "</table>\n"
      ],
      "text/plain": [
       "<IPython.core.display.HTML object>"
      ]
     },
     "metadata": {},
     "output_type": "display_data"
    }
   ],
   "source": [
    "learn = language_model_learner(data_lm, pretrained_model=URLs.WT103, drop_mult=0.5)\n",
    "learn.fit_one_cycle(1, 1e-2)"
   ]
  },
  {
   "cell_type": "code",
   "execution_count": 16,
   "metadata": {},
   "outputs": [
    {
     "data": {
      "text/html": [
       "Total time: 18:51 <p><table style='width:300px; margin-bottom:10px'>\n",
       "  <tr>\n",
       "    <th>epoch</th>\n",
       "    <th>train_loss</th>\n",
       "    <th>valid_loss</th>\n",
       "    <th>accuracy</th>\n",
       "  </tr>\n",
       "  <tr>\n",
       "    <th>1</th>\n",
       "    <th>4.187985</th>\n",
       "    <th>3.925991</th>\n",
       "    <th>0.298106</th>\n",
       "  </tr>\n",
       "</table>\n"
      ],
      "text/plain": [
       "<IPython.core.display.HTML object>"
      ]
     },
     "metadata": {},
     "output_type": "display_data"
    }
   ],
   "source": [
    "learn.unfreeze()\n",
    "learn.fit_one_cycle(1, 1e-3)"
   ]
  },
  {
   "cell_type": "code",
   "execution_count": 17,
   "metadata": {},
   "outputs": [],
   "source": [
    "wd=1e-7\n",
    "lr=1e-3\n",
    "lrs = lr"
   ]
  },
  {
   "cell_type": "code",
   "execution_count": 18,
   "metadata": {},
   "outputs": [
    {
     "data": {
      "text/html": [
       "Total time: 7:32:39 <p><table style='width:300px; margin-bottom:10px'>\n",
       "  <tr>\n",
       "    <th>epoch</th>\n",
       "    <th>train_loss</th>\n",
       "    <th>valid_loss</th>\n",
       "    <th>accuracy</th>\n",
       "  </tr>\n",
       "  <tr>\n",
       "    <th>1</th>\n",
       "    <th>4.038457</th>\n",
       "    <th>3.849872</th>\n",
       "    <th>0.302273</th>\n",
       "  </tr>\n",
       "  <tr>\n",
       "    <th>2</th>\n",
       "    <th>3.946853</th>\n",
       "    <th>3.801399</th>\n",
       "    <th>0.305587</th>\n",
       "  </tr>\n",
       "  <tr>\n",
       "    <th>3</th>\n",
       "    <th>3.858981</th>\n",
       "    <th>3.764411</th>\n",
       "    <th>0.310322</th>\n",
       "  </tr>\n",
       "  <tr>\n",
       "    <th>4</th>\n",
       "    <th>3.754583</th>\n",
       "    <th>3.732944</th>\n",
       "    <th>0.314489</th>\n",
       "  </tr>\n",
       "  <tr>\n",
       "    <th>5</th>\n",
       "    <th>3.665370</th>\n",
       "    <th>3.707683</th>\n",
       "    <th>0.321875</th>\n",
       "  </tr>\n",
       "  <tr>\n",
       "    <th>6</th>\n",
       "    <th>3.568224</th>\n",
       "    <th>3.689430</th>\n",
       "    <th>0.322917</th>\n",
       "  </tr>\n",
       "  <tr>\n",
       "    <th>7</th>\n",
       "    <th>3.464149</th>\n",
       "    <th>3.677289</th>\n",
       "    <th>0.326705</th>\n",
       "  </tr>\n",
       "  <tr>\n",
       "    <th>8</th>\n",
       "    <th>3.362748</th>\n",
       "    <th>3.663580</th>\n",
       "    <th>0.329167</th>\n",
       "  </tr>\n",
       "  <tr>\n",
       "    <th>9</th>\n",
       "    <th>3.269804</th>\n",
       "    <th>3.671115</th>\n",
       "    <th>0.332102</th>\n",
       "  </tr>\n",
       "  <tr>\n",
       "    <th>10</th>\n",
       "    <th>3.171323</th>\n",
       "    <th>3.646297</th>\n",
       "    <th>0.334943</th>\n",
       "  </tr>\n",
       "</table>\n"
      ],
      "text/plain": [
       "<IPython.core.display.HTML object>"
      ]
     },
     "metadata": {},
     "output_type": "display_data"
    }
   ],
   "source": [
    "learn.fit(10,lrs, wd)"
   ]
  },
  {
   "cell_type": "code",
   "execution_count": 19,
   "metadata": {},
   "outputs": [
    {
     "data": {
      "text/plain": [
       "'xxbos xxfld 1 the human body is a species of human being . xxbos xxfld 1 a great deal of time , every were already free in order to be paid . it was his evening life , of what he was , in a room where monsters and monsters often'"
      ]
     },
     "execution_count": 19,
     "metadata": {},
     "output_type": "execute_result"
    }
   ],
   "source": [
    "learn.predict(\"xxbos\", n_words=50, temperature=0.75)"
   ]
  },
  {
   "cell_type": "code",
   "execution_count": 26,
   "metadata": {},
   "outputs": [],
   "source": [
    "number_of_ideas = 100\n",
    "ideas_counter = 0\n",
    "all_ideas = []\n",
    "\n",
    "for i in range(1000):\n",
    "    idea = learn.predict(\"xxbos xxfld 1\", n_words=20, temperature=0.8)\n",
    "    ideas = idea.split(\"xxbos xxfld 1\")\n",
    "    ideas = ideas[1:-1]\n",
    "    \n",
    "    for idea in ideas:\n",
    "        idea = idea.replace(\"xxbos xxfld 1 \",\"\").strip()\n",
    "        if(idea):\n",
    "            all_ideas.append(idea)\n",
    "            ideas_counter = ideas_counter+1\n",
    "            \n",
    "    if ideas_counter > number_of_ideas:\n",
    "        break"
   ]
  },
  {
   "cell_type": "code",
   "execution_count": 27,
   "metadata": {},
   "outputs": [
    {
     "data": {
      "text/plain": [
       "['por las vida de los mundo de los mundo en el chi',\n",
       " 'the truth is that we can not be sure of what we do not know .',\n",
       " 'according to the standard , man is the real animal .',\n",
       " \"it is my business that i think that 's what i do n't know .\",\n",
       " 'after a adventure , it was not until that point that old ideas were drawn up .',\n",
       " 'the lives of a finite player player must be avoided .',\n",
       " 'a human being is also an animal .',\n",
       " 'i had to turn',\n",
       " \"i want people to be happy but i do n't want to be ourselves .\",\n",
       " 'there is a greater freedom for the philosophers and for the philosophers .',\n",
       " 'for a moment is not merely a thought , but a tragedy .',\n",
       " 'at this stage it is the true art .',\n",
       " 'i am the bridge , which is the bridge and the one that carries the bridge .',\n",
       " 'it is the wisdom that the world has not yet seen established at all .',\n",
       " 'the future is great because we love everything .',\n",
       " 'what is the belief in the right to man ?',\n",
       " 'nature is a perfect field of vision .',\n",
       " 't',\n",
       " 'to learn to draw is to impose a law on the law of physics .',\n",
       " 'the feeling of absurdity : that is , as we see why we are here .',\n",
       " 'he who fights with monsters knows what he is .',\n",
       " 'no longer culture is a sign of self - mastery .',\n",
       " 'when the universe is rotating , i will make a very very big decision .',\n",
       " 'today this is probably the most so - called mystery of science .',\n",
       " 'it is not a matter of fact , a reason for being ashamed of love .',\n",
       " 'the world around me , i believe , it is the world itself .',\n",
       " 'the subject must always be a man who is not alone . the',\n",
       " \"some people n't want to be stupid .\",\n",
       " 'the good dream is that you have to struggle for the good and the bad .',\n",
       " 'there is no community without the strong and just no one to live across .',\n",
       " 'i am not the man who is myself .',\n",
       " 'i felt that i had to quite cease to exist when i was touched .',\n",
       " 'the above principle of infinite players is perfectly good .',\n",
       " 'the stars are small and solitary , though they are neither great nor bad .',\n",
       " 'all souls are ignorance .',\n",
       " 'the limits of my language are always your limits .',\n",
       " 'the world is a world without any real purpose .',\n",
       " 'beyond the curve of the days become his favorite .',\n",
       " 'i continue to believe in this condition of life',\n",
       " 'here is the origin of all things .',\n",
       " 'we have to live and let live in order that we can create a universe .',\n",
       " 'a man is very much the most fertile man .',\n",
       " 'this world comes out of nowhere .',\n",
       " 'to live is to be happy .',\n",
       " 'the present man has a reason to be able to give birth to a dancing star .',\n",
       " \"it 's surprising to say that the real world had a beginning :\",\n",
       " 'the first thing is to die at heart .',\n",
       " 'and how i learned to walk and dance , i must sing .',\n",
       " 'as long as the mind is limited by its laws , it can not be understood .',\n",
       " 'the weakness of the apes is not infinite , but our surprise .',\n",
       " 'at the end of a conversation there is an invincible summer .',\n",
       " 'les de la vida pour la vie a es se non het la vida .',\n",
       " 'i say the last thing , in the end , is to die .',\n",
       " 'what does man understand is that the true man is a unjust child .',\n",
       " 'the soul is a dead cause .',\n",
       " \"it seems that there is nothing less than a child 's love .\",\n",
       " 'that is why the world is governed by the laws of physics .',\n",
       " 'the king is a genius who goes to school to be a public relations yes .',\n",
       " 'the child is born of this solitude .',\n",
       " 'i am a tree among trees .',\n",
       " 'we have never got the least of ideas and ideas .',\n",
       " 'every age in the middle ages is born of the holy spirit of peace .',\n",
       " 'but no one is willing to strive for peace , justice or reason .',\n",
       " \"but n't the time is going to happen if what breathe is bad .\",\n",
       " 'at the heart of all beauty lies something monstrous and full of things .',\n",
       " 'really , my heart is never .',\n",
       " 'yes , it is to say that there is a very rapid increase in human affairs .',\n",
       " 'everything in the world is like a dead world .',\n",
       " 'the good man is a man who wants to play my own .',\n",
       " 'there are no real truths , but it is a perpetual truth that is true .',\n",
       " 'you imagine that he can not live without knowing how to live .',\n",
       " 'the problems of life are not universal , but the future of mankind .',\n",
       " 'no one can build a bridge across the river of life .',\n",
       " 'passion is the desire to be strong . however it is necessary to love the weak .',\n",
       " 'in the end one must have experience to live with envy .',\n",
       " 'from the dark horizon of my future a future will never be seen .',\n",
       " 'he who does not know has the meaning , his reason to do .',\n",
       " 'no one has any idea how youth ... must have learned how to walk .',\n",
       " 'it is true that mersault was a very poor soil .',\n",
       " 'this is where we see and where there are , and what we see here .',\n",
       " 'a species of th',\n",
       " 'there are no boundaries between those limits of physical limits .',\n",
       " 'man is one who has the advantage of being overcome',\n",
       " 'woman is a woman . she is a tahu .',\n",
       " 'to live is to live alone',\n",
       " 'the fate of a man must be as great as the rank of man .',\n",
       " 'all artists of the twentieth century are quite free to live alone !',\n",
       " 'there is no justification of the state for the astonishment of the world .',\n",
       " 'there is evidence that in every human being , a human being must win the match .',\n",
       " 'the world is worth living .',\n",
       " 'the dumb man is not a bad bad conscience but a bad liar',\n",
       " 'because we have to choose between being understood we have a friend and love .',\n",
       " 'the mother of child dignity is a mother or mother .',\n",
       " 'it is the art of value that we do not understand .',\n",
       " 'a writer has been written with a definite idea of what is really in his universe',\n",
       " 'they believe that something is rare for the rare .',\n",
       " 'every step forward in the world preclude a future and there is a certain future .',\n",
       " 'and continuing that is the horror of original conservation .',\n",
       " 'solitude is often an activity .',\n",
       " 'one concerns me that things can never be forgotten .',\n",
       " 'i love people who have no happiness , but not lest they become strong .']"
      ]
     },
     "execution_count": 27,
     "metadata": {},
     "output_type": "execute_result"
    }
   ],
   "source": [
    "all_ideas"
   ]
  },
  {
   "cell_type": "code",
   "execution_count": 20,
   "metadata": {},
   "outputs": [],
   "source": [
    "learn.save_encoder('ft_enc')"
   ]
  },
  {
   "cell_type": "code",
   "execution_count": 21,
   "metadata": {},
   "outputs": [],
   "source": [
    "train_df.to_pickle('data/train_df.pkl')"
   ]
  },
  {
   "cell_type": "code",
   "execution_count": 22,
   "metadata": {},
   "outputs": [],
   "source": [
    "valid_df.to_pickle('data/valid_df.pkl')"
   ]
  }
 ],
 "metadata": {
  "kernelspec": {
   "display_name": "Python 3",
   "language": "python",
   "name": "python3"
  },
  "language_info": {
   "codemirror_mode": {
    "name": "ipython",
    "version": 3
   },
   "file_extension": ".py",
   "mimetype": "text/x-python",
   "name": "python",
   "nbconvert_exporter": "python",
   "pygments_lexer": "ipython3",
   "version": "3.7.0"
  }
 },
 "nbformat": 4,
 "nbformat_minor": 2
}
